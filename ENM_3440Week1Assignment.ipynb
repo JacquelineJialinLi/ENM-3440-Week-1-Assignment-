{
  "nbformat": 4,
  "nbformat_minor": 0,
  "metadata": {
    "colab": {
      "provenance": []
    },
    "kernelspec": {
      "name": "python3",
      "display_name": "Python 3"
    },
    "language_info": {
      "name": "python"
    }
  },
  "cells": [
    {
      "cell_type": "markdown",
      "source": [
        "#Swimming Mixed Medley Relay Optimization: A Data Science Approach\n",
        "##Motivation\n",
        "As the 2024 Olympics approach, the spotlight intensifies on one of the most strategic and thrilling events in swimming: the mixed medley relay. With two male and two female swimmers from each country competing in a single relay, teams are presented with the unique challenge of determining the optimal order of swimmers to achieve the fastest combined time. The complexity lies not only in evaluating individual swimmer's prowess in different strokes but also in balancing the dynamic interplay of male and female performances, which can differ significantly. Additionally, factors such as the potential of strategic drafting, variations in start and turn techniques, and the pressure of the Olympic stage introduce a level of unpredictability. Finding the optimal combination isn't just about raw speed; it's a nuanced puzzle that, if solved, could be the difference between standing atop the Olympic podium and watching from the sidelines. The stakes are high, and the margin for error is razor-thin. Harnessing the power of data science to crack this puzzle can offer teams a crucial edge in their pursuit of Olympic gold.\n",
        "\n",
        "##Methodology\n",
        "1. Data Collection:\n",
        "    *   Web Scraping: Extract data from websites or databases that store results from the World Aquatics Championship or similar events. Libraries like BeautifulSoup, Scrapy, or Selenium can be employed.\n",
        "    *   Archived Data: Sometimes, federations or event organizers release datasets for researchers. Check for these resources.\n",
        "2. Data Cleaning and Pre-processing:\n",
        "    *   Consistent Format: Ensure data columns are consistent across datasets. For instance, ensure that timings are in the same format (minutes:seconds.hundredths).\n",
        "    *   Feature Engineering: Add derived features that could be useful, such as the difference between a swimmer's time and the world record time for their event.\n",
        "3. Exploratory Data Analysis (EDA):\n",
        "    *   Performance Distribution: Understand the distribution of swimmer performance times for each stroke and gender.\n",
        "    *   Historical Trends: Evaluate if there are swimmers who consistently outperform others in high-pressure situations, such as finals.\n",
        "4. Simulation and Modeling:\n",
        "    *   Simple Baseline: As in the prior example, start with a basic model where you choose the top male and female swimmers for each stroke.\n",
        "    *   Advanced Optimization:\n",
        "        *   Genetic Algorithms: These can simulate various combinations of swimmers, potentially finding an optimal or near-optimal solution.\n",
        "        *   Monte Carlo Simulations: Given the variability in performances, run simulations to estimate the likelihood of different relay combinations winning.\n",
        "5. Consider External Factors:\n",
        "    *   Fatigue: Some swimmers might participate in multiple events, which can affect their performance.\n",
        "    *   Strategic Plays: Some teams might employ tactics like placing their best swimmer in a position to counter an opponent's best swimmer. You could model this using game theory.\n",
        "6. Validation:\n",
        "    *   Historical Data: Use older data to test the model's predictions. For instance, see how well your model would have predicted the outcomes of the 2020 Olympics.\n",
        "    *   Out-of-sample Testing: Divide your data into a training set and a test set. Use the training set to build your model and the test set to evaluate its predictions.\n",
        "7. Iteration:\n",
        "    *   Based on validation results, go back and refine the model, consider additional external factors, or perhaps introduce more advanced optimization techniques.\n",
        "8. Visualization and Presentation:\n",
        "    *   Create plots showing the predicted vs. actual results.\n",
        "    *   Highlight the recommended combinations and their projected chances of winning against other top teams\n",
        "\n",
        "\n",
        "\n",
        "\n",
        "\n",
        "\n",
        "\n",
        "\n",
        "\n",
        "\n",
        "\n",
        "\n",
        "\n",
        "\n",
        "\n",
        "\n",
        "\n",
        "\n",
        "\n",
        "\n",
        "\n",
        "\n",
        "\n"
      ],
      "metadata": {
        "id": "EnVIxLOGuSWU"
      }
    },
    {
      "cell_type": "markdown",
      "source": [
        "##SAMPLE ANALYSIS CODE"
      ],
      "metadata": {
        "id": "cusDY2IIwM4S"
      }
    },
    {
      "cell_type": "code",
      "source": [
        "import pandas as pd\n",
        "\n",
        "# Step 1: Data Collection\n",
        "# Assuming data is in a CSV file. If web scraping is required, libraries like BeautifulSoup or Scrapy can be used.\n",
        "data = pd.read_csv('world_aquatics_2023_data.csv')\n",
        "\n",
        "# Step 2: Data Cleaning and Pre-processing\n",
        "# Let's assume each row in data represents an individual swimmer's performance in a particular stroke\n",
        "# and the dataset has columns 'Swimmer', 'Stroke', 'Gender', and 'Time'\n",
        "data = data.dropna()  # Drop missing values\n",
        "data['Time'] = pd.to_timedelta(data['Time'])  # Convert time to a timedelta object for easy comparisons\n",
        "\n",
        "# Step 3: Data Analysis\n",
        "# Identify top male and female swimmers for each stroke\n",
        "top_swimmers = {}\n",
        "\n",
        "strokes = data['Stroke'].unique()\n",
        "for stroke in strokes:\n",
        "    male_top = data[(data['Stroke'] == stroke) & (data['Gender'] == 'Male')].nsmallest(1, 'Time')\n",
        "    female_top = data[(data['Stroke'] == stroke) & (data['Gender'] == 'Female')].nsmallest(1, 'Time')\n",
        "\n",
        "    top_swimmers[stroke] = {\n",
        "        'Male': male_top['Swimmer'].values[0],\n",
        "        'Female': female_top['Swimmer'].values[0]\n",
        "    }\n",
        "\n",
        "# Step 4: Optimization\n",
        "# For simplicity, we're choosing top swimmers for each stroke. Advanced optimization would involve\n",
        "# considering combinations, starts, turns, and other intricacies.\n",
        "relay_order = ['Butterfly', 'Backstroke', 'Breaststroke', 'Freestyle']\n",
        "\n",
        "team_order = []\n",
        "for stroke in relay_order:\n",
        "    if len(team_order) < 2:  # First two legs by top male swimmers\n",
        "        team_order.append(top_swimmers[stroke]['Male'])\n",
        "    else:\n",
        "        team_order.append(top_swimmers[stroke]['Female'])\n",
        "\n",
        "print(\"Optimal Relay Order:\", team_order)"
      ],
      "metadata": {
        "id": "T9eEsDQiyaBq"
      },
      "execution_count": null,
      "outputs": []
    },
    {
      "cell_type": "markdown",
      "source": [
        "##**Trial 1**: Results\n",
        "1. Butterfly:\n",
        "    *   Male: Caeleb Dressel (USA) – World-leading performance in the 100m butterfly at the 2019 World Championships.\n",
        "    *   Female: Sarah Sjöström (Sweden) – Outstanding performance in the 100m butterfly across multiple competitions.\n",
        "2. Backstroke:\n",
        "    *   Male: Ryan Murphy (USA) – A consistent performer, and the Olympic champion from 2016 in the 100m backstroke.\n",
        "    *   Female: Regan Smith (USA) – Broke the world record in the 100m and 200m backstroke at the 2019 World Championships.\n",
        "3. Breaststroke:\n",
        "    *   Male: Adam Peaty (Great Britain) – Dominant in the 100m breaststroke, holding the world record.\n",
        "    *   Female: Lilly King (USA) – Consistent performance in the 100m breaststroke, including at the World Championships.\n",
        "4. Freestyle:\n",
        "    *   Male: Kyle Chalmers (Australia) – Olympic champion from 2016 in the 100m freestyle.\n",
        "    *   Female: Emma McKeon (Australia) – Strong performance in the 100m freestyle at various international competitions.\n",
        "\n",
        "\n",
        "\n",
        "\n",
        "\n",
        "\n",
        "\n"
      ],
      "metadata": {
        "id": "bNGVixyXyizN"
      }
    },
    {
      "cell_type": "markdown",
      "source": [
        "##**Trial 2**: Results\n",
        "*The LLM required specification of only USA swimmers.*\n",
        "1. Butterfly:\n",
        "    *   Male: Caeleb Dressel – Not only was he a top performer for the USA, but he also led globally in the 100m butterfly with his world-leading performances.\n",
        "    *   Female: Torri Huske or Claire Curzan – Both showed promise leading up to 2021, with Huske having a strong showing at the U.S. Olympic Trials.\n",
        "2. Backstroke:\n",
        "    *   Male: Ryan Murphy – A consistent performer in the 100m backstroke, having been an Olympic champion and world champion in the past.\n",
        "    *   Female: Regan Smith – As mentioned, she broke the world records in both the 100m and 200m backstroke at the 2019 World Championships.\n",
        "3. Breaststroke:\n",
        "    *   Male: Michael Andrew or Nic Fink – Michael Andrew had made significant improvements leading up to 2021, especially in the 100m breaststroke, but Nic Fink also had strong performances.\n",
        "    *   Female: Lilly King – She was dominant in the 100m breaststroke and was a consistent performer for the USA on the international stage.\n",
        "4. Freestyle:\n",
        "    *   Male: Caeleb Dressel – Again, Dressel was dominant in multiple freestyle events, making him a flexible choice for multiple legs of the relay. Alternatively, someone like Zach Apple could be considered.\n",
        "    *   Female: Simone Manuel or Abbey Weitzeil – Manuel was the 2016 Olympic champion in the 100m freestyle, and Weitzeil had strong performances leading up to 2021."
      ],
      "metadata": {
        "id": "P-tprhkiz0jI"
      }
    },
    {
      "cell_type": "markdown",
      "source": [
        "##Limitations\n",
        "Leveraging Linear Mixed Models (LMMs) for the purpose of predicting optimal swimming relay teams presents several inherent challenges. At the forefront is the model's assumption of linearity, implying that the predictors and outcomes are linearly related, which might not be the case in the multifaceted realm of athletic performance. Additionally, while LMMs can cater to correlated data, they're predicated on the notion that the residuals, after accounting for such correlations, remain independent. This can be problematic in swimming where common external factors, such as changes in training methodologies or coaching staff, can influence numerous swimmers simultaneously. The model's assumption that errors are normally distributed can also be a limitation, especially if actual residuals diverge from a normal distribution. One of the subtler challenges in implementing LMMs is the necessity to judiciously select variables as fixed or random effects; an incorrect specification can lead to model misrepresentation. The computational intensity of fitting LMMs, particularly with vast datasets, can be prohibitive. Furthermore, while LMMs excel at elucidating relationships, their primary design isn't tailored for prediction, which is our main goal in the context of relay team optimization. Overfitting remains a concern as with many statistical models, and without careful model tuning, LMMs may perform poorly on new data. Lastly, the model’s inability to natively handle time series data and its lack of an inherent mechanism to capture complex interactions between swimmers can limit its applicability in this specific context."
      ],
      "metadata": {
        "id": "rxthtWoK0j-b"
      }
    }
  ]
}